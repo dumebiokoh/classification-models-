{
  "nbformat": 4,
  "nbformat_minor": 0,
  "metadata": {
    "colab": {
      "provenance": [],
      "authorship_tag": "ABX9TyPUrJhU7vpgouYEXSmzBiG1",
      "include_colab_link": true
    },
    "kernelspec": {
      "name": "python3",
      "display_name": "Python 3"
    },
    "language_info": {
      "name": "python"
    }
  },
  "cells": [
    {
      "cell_type": "markdown",
      "metadata": {
        "id": "view-in-github",
        "colab_type": "text"
      },
      "source": [
        "<a href=\"https://colab.research.google.com/github/chuxyno/apple-stockprice/blob/main/IDSS_CW2.ipynb\" target=\"_parent\"><img src=\"https://colab.research.google.com/assets/colab-badge.svg\" alt=\"Open In Colab\"/></a>"
      ]
    },
    {
      "cell_type": "code",
      "execution_count": null,
      "metadata": {
        "id": "BAEEheYaOpgt"
      },
      "outputs": [],
      "source": [
        "# Imports most libraries needed\n",
        "import pandas as pd\n",
        "import numpy as np\n",
        "import matplotlib.pyplot as plt\n",
        "from sklearn.tree import DecisionTreeClassifier # Import Decision Tree Classifier\n",
        "from sklearn import metrics #Import scikit-learn metrics module for accuracy calculation\n",
        "from sklearn.neighbors import KNeighborsClassifier\n",
        "%matplotlib inline\n",
        "\n",
        "# Train test split\n",
        "from sklearn.model_selection import train_test_split\n",
        "\n",
        "clf = DecisionTreeClassifier()"
      ]
    },
    {
      "cell_type": "code",
      "source": [
        "#Reads the data from source\n",
        "url = 'https://archive.ics.uci.edu/ml/machine-learning-databases/census-income/census-income.data'\n",
        "df = pd.read_csv(url,header=None,na_values=\"?\")\n",
        "df = df.dropna() "
      ],
      "metadata": {
        "id": "crA6F75uB0Mg"
      },
      "execution_count": null,
      "outputs": []
    },
    {
      "cell_type": "code",
      "source": [
        "df.head"
      ],
      "metadata": {
        "colab": {
          "base_uri": "https://localhost:8080/"
        },
        "id": "for_1FZcCJAj",
        "outputId": "9647fdd2-9e97-42ee-9f12-ac8e915d59b5"
      },
      "execution_count": null,
      "outputs": [
        {
          "output_type": "execute_result",
          "data": {
            "text/plain": [
              "<bound method NDFrame.head of        0                  1       2            3   4                    5   \\\n",
              "0      39          State-gov   77516    Bachelors  13        Never-married   \n",
              "1      50   Self-emp-not-inc   83311    Bachelors  13   Married-civ-spouse   \n",
              "2      38            Private  215646      HS-grad   9             Divorced   \n",
              "3      53            Private  234721         11th   7   Married-civ-spouse   \n",
              "4      28            Private  338409    Bachelors  13   Married-civ-spouse   \n",
              "...    ..                ...     ...          ...  ..                  ...   \n",
              "32556  27            Private  257302   Assoc-acdm  12   Married-civ-spouse   \n",
              "32557  40            Private  154374      HS-grad   9   Married-civ-spouse   \n",
              "32558  58            Private  151910      HS-grad   9              Widowed   \n",
              "32559  22            Private  201490      HS-grad   9        Never-married   \n",
              "32560  52       Self-emp-inc  287927      HS-grad   9   Married-civ-spouse   \n",
              "\n",
              "                       6               7       8        9      10  11  12  \\\n",
              "0            Adm-clerical   Not-in-family   White     Male   2174   0  40   \n",
              "1         Exec-managerial         Husband   White     Male      0   0  13   \n",
              "2       Handlers-cleaners   Not-in-family   White     Male      0   0  40   \n",
              "3       Handlers-cleaners         Husband   Black     Male      0   0  40   \n",
              "4          Prof-specialty            Wife   Black   Female      0   0  40   \n",
              "...                   ...             ...     ...      ...    ...  ..  ..   \n",
              "32556        Tech-support            Wife   White   Female      0   0  38   \n",
              "32557   Machine-op-inspct         Husband   White     Male      0   0  40   \n",
              "32558        Adm-clerical       Unmarried   White   Female      0   0  40   \n",
              "32559        Adm-clerical       Own-child   White     Male      0   0  20   \n",
              "32560     Exec-managerial            Wife   White   Female  15024   0  40   \n",
              "\n",
              "                   13      14  \n",
              "0       United-States   <=50K  \n",
              "1       United-States   <=50K  \n",
              "2       United-States   <=50K  \n",
              "3       United-States   <=50K  \n",
              "4                Cuba   <=50K  \n",
              "...               ...     ...  \n",
              "32556   United-States   <=50K  \n",
              "32557   United-States    >50K  \n",
              "32558   United-States   <=50K  \n",
              "32559   United-States   <=50K  \n",
              "32560   United-States    >50K  \n",
              "\n",
              "[32561 rows x 15 columns]>"
            ]
          },
          "metadata": {},
          "execution_count": 3
        }
      ]
    },
    {
      "cell_type": "code",
      "source": [
        "feature_names =['age','workclass','fnlwgt','education','education-num','marital-status','occupation','relationship','race','sex','capital-gain','capital-loss','hours-per-week','native-country']"
      ],
      "metadata": {
        "id": "_qPcYJJeP-Y3"
      },
      "execution_count": null,
      "outputs": []
    },
    {
      "cell_type": "code",
      "source": [
        "# Feature data and target data\n",
        "# Put the data into datafame using pandas and view head (First 5 rows)\n",
        "data_csv = pd.DataFrame(df)\n",
        "data_csv.head()"
      ],
      "metadata": {
        "colab": {
          "base_uri": "https://localhost:8080/",
          "height": 206
        },
        "id": "FulY6vrEQKVH",
        "outputId": "3f82f8fc-d40d-4ecc-a6ef-b16fb17f9352"
      },
      "execution_count": null,
      "outputs": [
        {
          "output_type": "execute_result",
          "data": {
            "text/plain": [
              "   0                  1       2           3   4                    5   \\\n",
              "0  39          State-gov   77516   Bachelors  13        Never-married   \n",
              "1  50   Self-emp-not-inc   83311   Bachelors  13   Married-civ-spouse   \n",
              "2  38            Private  215646     HS-grad   9             Divorced   \n",
              "3  53            Private  234721        11th   7   Married-civ-spouse   \n",
              "4  28            Private  338409   Bachelors  13   Married-civ-spouse   \n",
              "\n",
              "                   6               7       8        9     10  11  12  \\\n",
              "0        Adm-clerical   Not-in-family   White     Male  2174   0  40   \n",
              "1     Exec-managerial         Husband   White     Male     0   0  13   \n",
              "2   Handlers-cleaners   Not-in-family   White     Male     0   0  40   \n",
              "3   Handlers-cleaners         Husband   Black     Male     0   0  40   \n",
              "4      Prof-specialty            Wife   Black   Female     0   0  40   \n",
              "\n",
              "               13      14  \n",
              "0   United-States   <=50K  \n",
              "1   United-States   <=50K  \n",
              "2   United-States   <=50K  \n",
              "3   United-States   <=50K  \n",
              "4            Cuba   <=50K  "
            ],
            "text/html": [
              "\n",
              "  <div id=\"df-297e5886-70d0-4550-b4de-d2a7a906fb7b\">\n",
              "    <div class=\"colab-df-container\">\n",
              "      <div>\n",
              "<style scoped>\n",
              "    .dataframe tbody tr th:only-of-type {\n",
              "        vertical-align: middle;\n",
              "    }\n",
              "\n",
              "    .dataframe tbody tr th {\n",
              "        vertical-align: top;\n",
              "    }\n",
              "\n",
              "    .dataframe thead th {\n",
              "        text-align: right;\n",
              "    }\n",
              "</style>\n",
              "<table border=\"1\" class=\"dataframe\">\n",
              "  <thead>\n",
              "    <tr style=\"text-align: right;\">\n",
              "      <th></th>\n",
              "      <th>0</th>\n",
              "      <th>1</th>\n",
              "      <th>2</th>\n",
              "      <th>3</th>\n",
              "      <th>4</th>\n",
              "      <th>5</th>\n",
              "      <th>6</th>\n",
              "      <th>7</th>\n",
              "      <th>8</th>\n",
              "      <th>9</th>\n",
              "      <th>10</th>\n",
              "      <th>11</th>\n",
              "      <th>12</th>\n",
              "      <th>13</th>\n",
              "      <th>14</th>\n",
              "    </tr>\n",
              "  </thead>\n",
              "  <tbody>\n",
              "    <tr>\n",
              "      <th>0</th>\n",
              "      <td>39</td>\n",
              "      <td>State-gov</td>\n",
              "      <td>77516</td>\n",
              "      <td>Bachelors</td>\n",
              "      <td>13</td>\n",
              "      <td>Never-married</td>\n",
              "      <td>Adm-clerical</td>\n",
              "      <td>Not-in-family</td>\n",
              "      <td>White</td>\n",
              "      <td>Male</td>\n",
              "      <td>2174</td>\n",
              "      <td>0</td>\n",
              "      <td>40</td>\n",
              "      <td>United-States</td>\n",
              "      <td>&lt;=50K</td>\n",
              "    </tr>\n",
              "    <tr>\n",
              "      <th>1</th>\n",
              "      <td>50</td>\n",
              "      <td>Self-emp-not-inc</td>\n",
              "      <td>83311</td>\n",
              "      <td>Bachelors</td>\n",
              "      <td>13</td>\n",
              "      <td>Married-civ-spouse</td>\n",
              "      <td>Exec-managerial</td>\n",
              "      <td>Husband</td>\n",
              "      <td>White</td>\n",
              "      <td>Male</td>\n",
              "      <td>0</td>\n",
              "      <td>0</td>\n",
              "      <td>13</td>\n",
              "      <td>United-States</td>\n",
              "      <td>&lt;=50K</td>\n",
              "    </tr>\n",
              "    <tr>\n",
              "      <th>2</th>\n",
              "      <td>38</td>\n",
              "      <td>Private</td>\n",
              "      <td>215646</td>\n",
              "      <td>HS-grad</td>\n",
              "      <td>9</td>\n",
              "      <td>Divorced</td>\n",
              "      <td>Handlers-cleaners</td>\n",
              "      <td>Not-in-family</td>\n",
              "      <td>White</td>\n",
              "      <td>Male</td>\n",
              "      <td>0</td>\n",
              "      <td>0</td>\n",
              "      <td>40</td>\n",
              "      <td>United-States</td>\n",
              "      <td>&lt;=50K</td>\n",
              "    </tr>\n",
              "    <tr>\n",
              "      <th>3</th>\n",
              "      <td>53</td>\n",
              "      <td>Private</td>\n",
              "      <td>234721</td>\n",
              "      <td>11th</td>\n",
              "      <td>7</td>\n",
              "      <td>Married-civ-spouse</td>\n",
              "      <td>Handlers-cleaners</td>\n",
              "      <td>Husband</td>\n",
              "      <td>Black</td>\n",
              "      <td>Male</td>\n",
              "      <td>0</td>\n",
              "      <td>0</td>\n",
              "      <td>40</td>\n",
              "      <td>United-States</td>\n",
              "      <td>&lt;=50K</td>\n",
              "    </tr>\n",
              "    <tr>\n",
              "      <th>4</th>\n",
              "      <td>28</td>\n",
              "      <td>Private</td>\n",
              "      <td>338409</td>\n",
              "      <td>Bachelors</td>\n",
              "      <td>13</td>\n",
              "      <td>Married-civ-spouse</td>\n",
              "      <td>Prof-specialty</td>\n",
              "      <td>Wife</td>\n",
              "      <td>Black</td>\n",
              "      <td>Female</td>\n",
              "      <td>0</td>\n",
              "      <td>0</td>\n",
              "      <td>40</td>\n",
              "      <td>Cuba</td>\n",
              "      <td>&lt;=50K</td>\n",
              "    </tr>\n",
              "  </tbody>\n",
              "</table>\n",
              "</div>\n",
              "      <button class=\"colab-df-convert\" onclick=\"convertToInteractive('df-297e5886-70d0-4550-b4de-d2a7a906fb7b')\"\n",
              "              title=\"Convert this dataframe to an interactive table.\"\n",
              "              style=\"display:none;\">\n",
              "        \n",
              "  <svg xmlns=\"http://www.w3.org/2000/svg\" height=\"24px\"viewBox=\"0 0 24 24\"\n",
              "       width=\"24px\">\n",
              "    <path d=\"M0 0h24v24H0V0z\" fill=\"none\"/>\n",
              "    <path d=\"M18.56 5.44l.94 2.06.94-2.06 2.06-.94-2.06-.94-.94-2.06-.94 2.06-2.06.94zm-11 1L8.5 8.5l.94-2.06 2.06-.94-2.06-.94L8.5 2.5l-.94 2.06-2.06.94zm10 10l.94 2.06.94-2.06 2.06-.94-2.06-.94-.94-2.06-.94 2.06-2.06.94z\"/><path d=\"M17.41 7.96l-1.37-1.37c-.4-.4-.92-.59-1.43-.59-.52 0-1.04.2-1.43.59L10.3 9.45l-7.72 7.72c-.78.78-.78 2.05 0 2.83L4 21.41c.39.39.9.59 1.41.59.51 0 1.02-.2 1.41-.59l7.78-7.78 2.81-2.81c.8-.78.8-2.07 0-2.86zM5.41 20L4 18.59l7.72-7.72 1.47 1.35L5.41 20z\"/>\n",
              "  </svg>\n",
              "      </button>\n",
              "      \n",
              "  <style>\n",
              "    .colab-df-container {\n",
              "      display:flex;\n",
              "      flex-wrap:wrap;\n",
              "      gap: 12px;\n",
              "    }\n",
              "\n",
              "    .colab-df-convert {\n",
              "      background-color: #E8F0FE;\n",
              "      border: none;\n",
              "      border-radius: 50%;\n",
              "      cursor: pointer;\n",
              "      display: none;\n",
              "      fill: #1967D2;\n",
              "      height: 32px;\n",
              "      padding: 0 0 0 0;\n",
              "      width: 32px;\n",
              "    }\n",
              "\n",
              "    .colab-df-convert:hover {\n",
              "      background-color: #E2EBFA;\n",
              "      box-shadow: 0px 1px 2px rgba(60, 64, 67, 0.3), 0px 1px 3px 1px rgba(60, 64, 67, 0.15);\n",
              "      fill: #174EA6;\n",
              "    }\n",
              "\n",
              "    [theme=dark] .colab-df-convert {\n",
              "      background-color: #3B4455;\n",
              "      fill: #D2E3FC;\n",
              "    }\n",
              "\n",
              "    [theme=dark] .colab-df-convert:hover {\n",
              "      background-color: #434B5C;\n",
              "      box-shadow: 0px 1px 3px 1px rgba(0, 0, 0, 0.15);\n",
              "      filter: drop-shadow(0px 1px 2px rgba(0, 0, 0, 0.3));\n",
              "      fill: #FFFFFF;\n",
              "    }\n",
              "  </style>\n",
              "\n",
              "      <script>\n",
              "        const buttonEl =\n",
              "          document.querySelector('#df-297e5886-70d0-4550-b4de-d2a7a906fb7b button.colab-df-convert');\n",
              "        buttonEl.style.display =\n",
              "          google.colab.kernel.accessAllowed ? 'block' : 'none';\n",
              "\n",
              "        async function convertToInteractive(key) {\n",
              "          const element = document.querySelector('#df-297e5886-70d0-4550-b4de-d2a7a906fb7b');\n",
              "          const dataTable =\n",
              "            await google.colab.kernel.invokeFunction('convertToInteractive',\n",
              "                                                     [key], {});\n",
              "          if (!dataTable) return;\n",
              "\n",
              "          const docLinkHtml = 'Like what you see? Visit the ' +\n",
              "            '<a target=\"_blank\" href=https://colab.research.google.com/notebooks/data_table.ipynb>data table notebook</a>'\n",
              "            + ' to learn more about interactive tables.';\n",
              "          element.innerHTML = '';\n",
              "          dataTable['output_type'] = 'display_data';\n",
              "          await google.colab.output.renderOutput(dataTable, element);\n",
              "          const docLink = document.createElement('div');\n",
              "          docLink.innerHTML = docLinkHtml;\n",
              "          element.appendChild(docLink);\n",
              "        }\n",
              "      </script>\n",
              "    </div>\n",
              "  </div>\n",
              "  "
            ]
          },
          "metadata": {},
          "execution_count": 5
        }
      ]
    },
    {
      "cell_type": "code",
      "source": [
        "data_csv[data_csv.columns[1]]"
      ],
      "metadata": {
        "colab": {
          "base_uri": "https://localhost:8080/"
        },
        "id": "-MazHLEdTtFn",
        "outputId": "020f554a-ed14-4ca2-cde5-cb13824776f1"
      },
      "execution_count": null,
      "outputs": [
        {
          "output_type": "execute_result",
          "data": {
            "text/plain": [
              "0                State-gov\n",
              "1         Self-emp-not-inc\n",
              "2                  Private\n",
              "3                  Private\n",
              "4                  Private\n",
              "               ...        \n",
              "32556              Private\n",
              "32557              Private\n",
              "32558              Private\n",
              "32559              Private\n",
              "32560         Self-emp-inc\n",
              "Name: 1, Length: 32561, dtype: object"
            ]
          },
          "metadata": {},
          "execution_count": 8
        }
      ]
    },
    {
      "cell_type": "code",
      "source": [
        "# Transform workclass column to index\n",
        "workclass_names = ['Private', 'Self-emp-not-inc', 'Self-emp-inc', 'Federal-gov', 'Local-gov', 'State-gov', 'Without-pay', 'Never-worked']\n",
        "workclass  = data_csv[data_csv.columns[1]]\n",
        "workclass = [c.replace(' ', '') for c in data_csv[data_csv.columns[1]]]\n",
        "workclass = [c.replace('?', 'Self-emp-not-inc') for c in workclass]\n",
        "workclassIndex = np.array([workclass_names.index(i) for i in workclass])\n",
        "workclassIndex"
      ],
      "metadata": {
        "colab": {
          "base_uri": "https://localhost:8080/"
        },
        "id": "167Z8gvCN96s",
        "outputId": "6fb161ad-250a-419c-d841-5b89bf0e2b42"
      },
      "execution_count": null,
      "outputs": [
        {
          "output_type": "execute_result",
          "data": {
            "text/plain": [
              "array([5, 1, 0, ..., 0, 0, 2])"
            ]
          },
          "metadata": {},
          "execution_count": 9
        }
      ]
    },
    {
      "cell_type": "code",
      "source": [
        "# Transform education column to index\n",
        "education_names = ['Bachelors', 'Some-college', '11th', 'HS-grad', 'Prof-school', 'Assoc-acdm', 'Assoc-voc', '9th', '7th-8th', '12th', 'Masters', '1st-4th', '10th', 'Doctorate', '5th-6th', 'Preschool','NA']\n",
        "education = data_csv[data_csv.columns[3]]\n",
        "education = [c.replace(' ', '') for c in data_csv[data_csv.columns[3]]]\n",
        "#education = [c.replace('77516', 'NA') for c in education]\n",
        "educationIndex = np.array([education_names.index(i) for i in education])\n",
        "educationIndex"
      ],
      "metadata": {
        "colab": {
          "base_uri": "https://localhost:8080/"
        },
        "id": "nWvyOElqX9b3",
        "outputId": "9434df45-9873-4cc7-db4e-40780bf1daa4"
      },
      "execution_count": null,
      "outputs": [
        {
          "output_type": "execute_result",
          "data": {
            "text/plain": [
              "array([0, 0, 3, ..., 3, 3, 3])"
            ]
          },
          "metadata": {},
          "execution_count": 10
        }
      ]
    },
    {
      "cell_type": "code",
      "source": [
        "# Transform marital status column to index\n",
        "marital_status_names = ['Married-civ-spouse', 'Divorced', 'Never-married', 'Separated', 'Widowed', 'Married-spouse-absent', 'Married-AF-spouse']\n",
        "marital_status = data_csv[data_csv.columns[5]]\n",
        "marital_status = [c.replace(' ', '') for c in marital_status]\n",
        "#education = [c.replace('77516', 'NA') for c in education]\n",
        "marital_statusIndex = np.array([marital_status_names.index(i) for i in marital_status])\n",
        "marital_statusIndex"
      ],
      "metadata": {
        "colab": {
          "base_uri": "https://localhost:8080/"
        },
        "id": "Yn4Db9O5crPw",
        "outputId": "b0a95e49-b64f-46b9-bee7-510ed974c3be"
      },
      "execution_count": null,
      "outputs": [
        {
          "output_type": "execute_result",
          "data": {
            "text/plain": [
              "array([2, 0, 1, ..., 4, 2, 0])"
            ]
          },
          "metadata": {},
          "execution_count": 11
        }
      ]
    },
    {
      "cell_type": "code",
      "source": [
        "# Transform column column to index\n",
        "occupation_names = ['Tech-support', 'Craft-repair', 'Other-service', 'Sales', 'Exec-managerial', 'Prof-specialty', 'Handlers-cleaners', 'Machine-op-inspct', 'Adm-clerical', 'Farming-fishing', 'Transport-moving', 'Priv-house-serv', 'Protective-serv', 'Armed-Forces','NA']\n",
        "occupation = data_csv[data_csv.columns[6]]\n",
        "occupation = [c.replace(' ', '') for c in occupation]\n",
        "occupation = [c.replace('?', 'NA') for c in occupation]\n",
        "occupationIndex = np.array([occupation_names.index(i) for i in occupation])\n",
        "occupationIndex"
      ],
      "metadata": {
        "colab": {
          "base_uri": "https://localhost:8080/"
        },
        "id": "bHUiHM17dl3i",
        "outputId": "b5e38d8e-bab4-4634-ede1-dd28fe3887d6"
      },
      "execution_count": null,
      "outputs": [
        {
          "output_type": "execute_result",
          "data": {
            "text/plain": [
              "array([8, 4, 6, ..., 8, 8, 4])"
            ]
          },
          "metadata": {},
          "execution_count": 12
        }
      ]
    },
    {
      "cell_type": "code",
      "source": [
        "# Transform relationship column to index\n",
        "relationship_names = ['Wife', 'Own-child', 'Husband', 'Not-in-family', 'Other-relative', 'Unmarried','NA']\n",
        "relationship = data_csv[data_csv.columns[7]]\n",
        "relationship = [c.replace(' ', '') for c in relationship]\n",
        "relationship = [c.replace('?', 'NA') for c in relationship]\n",
        "relationshipIndex = np.array([relationship_names.index(i) for i in relationship])\n",
        "relationshipIndex"
      ],
      "metadata": {
        "colab": {
          "base_uri": "https://localhost:8080/"
        },
        "id": "RitgrqDog4oa",
        "outputId": "71df1f49-92d8-4c83-d36f-bd5c58638a38"
      },
      "execution_count": null,
      "outputs": [
        {
          "output_type": "execute_result",
          "data": {
            "text/plain": [
              "array([3, 2, 3, ..., 5, 1, 0])"
            ]
          },
          "metadata": {},
          "execution_count": 13
        }
      ]
    },
    {
      "cell_type": "code",
      "source": [
        "# Transform race column to index\n",
        "race_names = ['White', 'Asian-Pac-Islander', 'Amer-Indian-Eskimo', 'Other', 'Black']\n",
        "race = data_csv[data_csv.columns[8]]\n",
        "race = [c.replace(' ', '') for c in race]\n",
        "race = [c.replace('?', 'NA') for c in race]\n",
        "raceIndex = np.array([race_names.index(i) for i in race])\n",
        "raceIndex"
      ],
      "metadata": {
        "colab": {
          "base_uri": "https://localhost:8080/"
        },
        "id": "FXGXBMu1ibGA",
        "outputId": "3448dad8-dd17-47b6-de91-756b80e73654"
      },
      "execution_count": null,
      "outputs": [
        {
          "output_type": "execute_result",
          "data": {
            "text/plain": [
              "array([0, 0, 0, ..., 0, 0, 0])"
            ]
          },
          "metadata": {},
          "execution_count": 14
        }
      ]
    },
    {
      "cell_type": "code",
      "source": [
        "# Transform sex column to index\n",
        "sex_names = ['Female', 'Male']\n",
        "sex = data_csv[data_csv.columns[9]]\n",
        "sex = [c.replace(' ', '') for c in sex]\n",
        "sex = [c.replace('?', 'NA') for c in sex]\n",
        "sexIndex = np.array([sex_names.index(i) for i in sex])\n",
        "sexIndex"
      ],
      "metadata": {
        "colab": {
          "base_uri": "https://localhost:8080/"
        },
        "id": "3wDYhgBajQcR",
        "outputId": "9294cfcb-d4e1-4c4b-c13a-21cba9e4d278"
      },
      "execution_count": null,
      "outputs": [
        {
          "output_type": "execute_result",
          "data": {
            "text/plain": [
              "array([1, 1, 1, ..., 0, 1, 0])"
            ]
          },
          "metadata": {},
          "execution_count": 15
        }
      ]
    },
    {
      "cell_type": "code",
      "source": [
        "# Transform native country column to index\n",
        "native_country_names = ['United-States', 'Cambodia', 'England', 'Puerto-Rico', 'Canada', 'Germany', 'Outlying-US(Guam-USVI-etc)', 'India', 'Japan', 'Greece', 'South', 'China', 'Cuba', 'Iran', 'Honduras', 'Philippines', 'Italy', 'Poland', 'Jamaica,' 'Vietnam', 'Mexico', 'Portugal', 'Ireland', 'France', 'Dominican-Republic', 'Laos', 'Ecuador', 'Taiwan', 'Haiti', 'Columbia', 'Hungary', 'Guatemala', 'Nicaragua', 'Scotland', 'Thailand', 'Yugoslavia', 'El-Salvador', 'Trinadad&Tobago', 'Peru', 'Hong', 'Holand-Netherlands','Jamaica','NA','Vietnam']\n",
        "native_country = data_csv[data_csv.columns[13]]\n",
        "native_country = [c.replace(' ', '') for c in native_country]\n",
        "native_country = [c.replace('?', 'NA') for c in native_country]\n",
        "native_countryIndex = np.array([native_country_names.index(i) for i in native_country])\n",
        "native_countryIndex"
      ],
      "metadata": {
        "colab": {
          "base_uri": "https://localhost:8080/"
        },
        "id": "_9TAbo4dkFT7",
        "outputId": "c31801b8-f3d9-4bd5-e47d-fcc93c2801a8"
      },
      "execution_count": null,
      "outputs": [
        {
          "output_type": "execute_result",
          "data": {
            "text/plain": [
              "array([0, 0, 0, ..., 0, 0, 0])"
            ]
          },
          "metadata": {},
          "execution_count": 16
        }
      ]
    },
    {
      "cell_type": "code",
      "source": [
        "# Transform target names column to index\n",
        "target_names = ['<=50K', '>50K']\n",
        "target = data_csv[data_csv.columns[14]]\n",
        "target = [c.replace(' ', '') for c in target]\n",
        "targetIndex = np.array([target_names.index(i) for i in target])\n",
        "targetIndex"
      ],
      "metadata": {
        "colab": {
          "base_uri": "https://localhost:8080/"
        },
        "id": "Q9f-wMZdnduO",
        "outputId": "4cbc9ea5-9216-4c8c-88aa-3450e9a68e29"
      },
      "execution_count": null,
      "outputs": [
        {
          "output_type": "execute_result",
          "data": {
            "text/plain": [
              "array([0, 0, 0, ..., 0, 0, 1])"
            ]
          },
          "metadata": {},
          "execution_count": 17
        }
      ]
    },
    {
      "cell_type": "code",
      "source": [
        "# Seperate the data into features (X) and target (y) and assign the indexed columns\n",
        "\n",
        "from scipy.sparse import data\n",
        "X = data_csv.drop(data_csv.columns[14], axis=1)\n",
        "X[1] = workclassIndex\n",
        "X[3] = educationIndex\n",
        "X[5] = marital_statusIndex\n",
        "X[6] = occupationIndex\n",
        "X[7] = relationshipIndex\n",
        "X[8] = raceIndex\n",
        "X[9] = sexIndex\n",
        "X[13] = native_countryIndex\n",
        "X.columns = feature_names\n",
        "y= targetIndex"
      ],
      "metadata": {
        "id": "_arMwnyaT7oQ"
      },
      "execution_count": null,
      "outputs": []
    },
    {
      "cell_type": "code",
      "source": [
        "# Test for importance of columns\n",
        "\n",
        "X_train, X_test, y_train, y_test = train_test_split(X, y, test_size=0.2, random_state=42)\n",
        "from sklearn.ensemble import RandomForestClassifier\n",
        "rf_model = RandomForestClassifier(n_estimators=100, max_features=\"auto\", random_state=44)\n",
        "rf_model.fit(X_train, y_train)\n",
        "\n",
        "importance = rf_model.feature_importances_\n",
        "columns = X.columns\n",
        "i=0\n",
        "print(len(columns))\n",
        "while i < len(columns):\n",
        "  print(f\"the importance of feature '{columns[i]} 'is  '{round(importance[i] * 100, 2)}%.\")\n",
        "  i+=1"
      ],
      "metadata": {
        "colab": {
          "base_uri": "https://localhost:8080/"
        },
        "id": "HpiHvM6XXfqO",
        "outputId": "e3f5ee65-3d8f-4cc1-c51a-fce8e17b21f6"
      },
      "execution_count": null,
      "outputs": [
        {
          "output_type": "stream",
          "name": "stdout",
          "text": [
            "14\n",
            "the importance of feature 'age 'is  '15.87%.\n",
            "the importance of feature 'workclass 'is  '3.58%.\n",
            "the importance of feature 'fnlwgt 'is  '16.94%.\n",
            "the importance of feature 'education 'is  '3.03%.\n",
            "the importance of feature 'education-num 'is  '9.19%.\n",
            "the importance of feature 'marital-status 'is  '11.94%.\n",
            "the importance of feature 'occupation 'is  '7.49%.\n",
            "the importance of feature 'relationship 'is  '4.74%.\n",
            "the importance of feature 'race 'is  '1.35%.\n",
            "the importance of feature 'sex 'is  '1.33%.\n",
            "the importance of feature 'capital-gain 'is  '11.21%.\n",
            "the importance of feature 'capital-loss 'is  '3.35%.\n",
            "the importance of feature 'hours-per-week 'is  '8.23%.\n",
            "the importance of feature 'native-country 'is  '1.74%.\n"
          ]
        }
      ]
    },
    {
      "cell_type": "code",
      "source": [
        "# All Functions\n",
        "\n",
        "#Choose the algorithm to use. 1 for KNN and 2 for Decision Tree, 3 RFC\n",
        "def algorithmChoice():\n",
        "  choice = 0\n",
        "  choice = input(\"Select Classifier Algorithm to Use. 1 for KNN, 2 for Decision Tree and 3 for Random Forest Classifier: \")\n",
        "  if choice == \"1\":\n",
        "    from sklearn.neighbors import KNeighborsClassifier\n",
        "    search_for_best_k(25)\n",
        "  elif choice == \"2\":\n",
        "    #print(\"Wrong choice, pick another between 1 and 2\")\n",
        "    clf = decision_tree_algorithm()\n",
        "    print(\"\\n\")\n",
        "    #predict()\n",
        "  elif choice == \"3\":\n",
        "    #print(\"Wrong choice, pick another between 1 and 2\")\n",
        "    random_forest_classifier_algorithm()\n",
        "  else:\n",
        "    algorithmChoice()\n",
        "\n",
        "#KNN algorithm\n",
        "def knn_algorithm(k: int):\n",
        "  # Import necessary modules\n",
        "  from sklearn.neighbors import KNeighborsClassifier\n",
        "  \n",
        "  # Train the data using a train size of 80% of the data\n",
        "  X_train, X_test, y_train, y_test = train_test_split(X, y, test_size=0.2, random_state=42)\n",
        "\n",
        "  knn = KNeighborsClassifier(n_neighbors=int(k))\n",
        "  knn.fit(X_train, y_train)\n",
        "\n",
        "  # Calculate the accuracy of the model\n",
        "  print(f\"Accuracy Score is: {knn.score(X_test, y_test)}\")\n",
        "  # testing the model\n",
        "  y_pred= knn.predict(X_test)\n",
        "\n",
        "  # importing accuracy_score\n",
        "  from sklearn.metrics import accuracy_score\n",
        "\n",
        "  # printing accuracy\n",
        "  #print(accuracy_score(y_test, y_pred))\n",
        "  plot_confusion_matrix(y_pred,y_test)\n",
        "  #from sklearn.metrics import mean_squared_error\n",
        "  #from math import sqrt\n",
        "  #mse = mean_squared_error(y_train, y_pred)\n",
        "  #rmse = sqrt(mse)\n",
        "  #print(f\"Mean Square Error: {mse}\")\n",
        "  #print(f\"Root Mean Square Error: {rmse}\")\n",
        "  #print(\"\\n\")\n",
        "  #predict()\n",
        "  return knn\n",
        "\n",
        "#Search for best K to use in KNN algorithm\n",
        "def search_for_best_k(neighbor_size):\n",
        "  from sklearn.neighbors import KNeighborsClassifier\n",
        "  # Split into training and test set\n",
        "  X_train, X_test, y_train, y_test = train_test_split(X, y, test_size = 0.2, random_state=42)\n",
        "  \n",
        "  neighbors = np.arange(1, neighbor_size)\n",
        "  train_accuracy = np.empty(len(neighbors))\n",
        "  test_accuracy = np.empty(len(neighbors))\n",
        "  \n",
        "  # Loop over K values\n",
        "  for i, k in enumerate(neighbors):\n",
        "    knn = KNeighborsClassifier(n_neighbors=k)\n",
        "    knn.fit(X_train, y_train)\n",
        "      \n",
        "    # Compute training and test data accuracy\n",
        "    train_accuracy[i] = knn.score(X_train, y_train)\n",
        "    test_accuracy[i] = knn.score(X_test, y_test)\n",
        "  \n",
        "  # Generate plot\n",
        "  plt.plot(neighbors, test_accuracy, label = 'Testing dataset Accuracy')\n",
        "  plt.plot(neighbors, train_accuracy, label = 'Training dataset Accuracy')\n",
        "      \n",
        "  plt.legend()\n",
        "  plt.xlabel('n_neighbors')\n",
        "  plt.ylabel('Accuracy')\n",
        "  plt.show()  \n",
        "  \n",
        "\n",
        "# Plot confusion Matrix\n",
        "\n",
        "def plot_confusion_matrix(y_pred,y_test):\n",
        "  # importing seaborn\n",
        "  import seaborn as sns\n",
        "\n",
        "  # Making the Confusion Matrix\n",
        "  from sklearn.metrics import confusion_matrix\n",
        "\n",
        "  # providing actual and predicted values\n",
        "  try:\n",
        "    cm = confusion_matrix(y_test, y_pred)\n",
        "\n",
        "    # If True, write the data value in each cell\n",
        "    sns.heatmap(cm,annot=True)    \n",
        "    print(\"Confusion Matrix\")\n",
        "    \n",
        "    # saving confusion matrix in png form\n",
        "    plt.savefig('confusion_Matrix.png')\n",
        "    print(cm)\n",
        "  except BaseException as e:\n",
        "    print('ERROR: ' + str(e))\n",
        "\n",
        "\n",
        "def decision_tree_algorithm():\n",
        "  \n",
        "\n",
        "  # Split dataset into training set and test set\n",
        "  X_train, X_test, y_train, y_test = train_test_split(X, y, test_size=0.2, random_state=0) # 80% training and 30% test\n",
        "\n",
        "  # Create Decision Tree classifer object\n",
        "  clf = DecisionTreeClassifier()\n",
        "\n",
        "  # Train Decision Tree Classifer\n",
        "  clf = clf.fit(X_train,y_train)\n",
        "\n",
        "  #Predict the response for test dataset\n",
        "  y_pred = clf.predict(X_test)\n",
        "\n",
        "  # Model Accuracy, how often is the classifier correct?\n",
        "  print(\"Decision Tree Accuracy:\",metrics.accuracy_score(y_test, y_pred))\n",
        "  return clf\n",
        "\n",
        "def random_forest_classifier_algorithm():\n",
        "  from sklearn.model_selection import train_test_split\n",
        "  X_train, X_test, y_train, y_test = train_test_split(X, y, test_size=0.2, random_state=44)\n",
        "  from sklearn.ensemble import RandomForestClassifier\n",
        "  rf_model = RandomForestClassifier(n_estimators=50, max_features=\"auto\", random_state=44)\n",
        "  rf_model.fit(X_train, y_train)  \n",
        "\n",
        "  y_pred = rf_model.predict(X_test)\n",
        "  # Create confusion matrix\n",
        "  from sklearn.metrics import confusion_matrix, f1_score, accuracy_score\n",
        "  confusion_matrix(y_test, y_pred)\n",
        "  # Display accuracy score\n",
        "  accuracy_score(y_test, y_pred)\n",
        "  # Display F1 score\n",
        "  f1_score(y_test,y_pred)\n",
        "\n",
        "\n",
        "  print(f\"The accuracy based on Random Forest Classifier: {accuracy_score(y_test, y_pred)}\")\n",
        "  print(f\"The F1 Score based on Random Forest Classifier: {f1_score(y_test,y_pred)}\")\n",
        "  #plot_confusion_matrix(predictions)\n",
        "  plot_confusion_matrix(y_pred,y_test)\n",
        "  #y_train\n",
        "  #predictions\n",
        "\n",
        "def predict():\n",
        "  age = input(\"Enter Age: \")\n",
        "  wc = input(\"Enter Work Class (0: Private, 1: Self-emp-not-inc, 2:Self-emp-inc, 3: Federal-gov, 4: Local-gov, 5: State-gov, 6: Without-pay,\\n 7: Never-worked): \")\n",
        "  fw = input(\"Enter Final Weight: \")\n",
        "  edu = input(\"Enter Education (0: Bachelors, 1: Some-college, 2: 11th, 3: HS-grad, 4: Prof-school, 5: Assoc-acdm, 6: Assoc-voc, 7: 9th, 8: 7th-8th,\\n 9: 12th, 10: Masters, 11: 1st-4th, 10th, 12: Doctorate, 13: 5th-6th, 14: Preschool): \")\n",
        "  edu_num = input(\"Enter Education-Num: \")\n",
        "  ms = input(\"Enter Marital-status (0: Married-civ-spouse, 1: Divorced, 2: Never-married, 3: Separated, 4: Widowed, 5: Married-spouse-absent, \\n 6: Married-AF-spouse): \")\n",
        "  occ = input(\"Enter Occupation (0: Tech-support, 1: Craft-repair, 2: Other-service, 3: Sales, 4: Exec-managerial, 5: Prof-specialty,\\n 6: Handlers-cleaners, 7: Machine-op-inspct, 8: Adm-clerical, 9: Farming-fishing, 10: Transport-moving, 11: Priv-house-serv, \\n12: Protective-serv, 13: Armed-Forces): \")\n",
        "  rela = input(\"Enter Relationship: (0: Wife, 1: Own-child, 2: Husband, 3: Not-in-family, 4: Other-relative, 5: Unmarried) \")\n",
        "  race = input(\"Enter Race (0: White, 1: Asian-Pac-Islander, 2: Amer-Indian-Eskimo, 3: Other, 4: Black): \")\n",
        "  sex = input(\"Enter Sex: (0: Female, 1: Male) \")\n",
        "  cg = input(\"Enter Capital-gain: \")\n",
        "  cl = input(\"Enter Capital-loss: \")\n",
        "  hw = input(\"Enter Hours-per-week: \")\n",
        "  nc = input(\"Enter Native-country: (0: United-States, 1: Cambodia, 2: England, 3: Puerto-Rico, 4: Canada, 5: Germany, 6: Outlying-US(Guam-USVI-etc), \\n7: India, 8: Japan, 9: Greece, 10: South, 11: China, 12: Cuba, 13: Iran, 14: Honduras, 16: Philippines, \\n17: Italy, 18: Poland, 19: Jamaica, 20: Vietnam, 21: Mexico, 22: Portugal, 23: Ireland, 24: France, 25: Dominican-Republic, 26: Laos, 27: Ecuador, 28: Taiwan, 29: Haiti, 30: Columbia, 31: Hungary, 31: Guatemala, \\n32: Nicaragua, 33: Scotland, 34: Thailand, 35: Yugoslavia, 36: El-Salvador, 37: Trinadad&Tobago, 38: Peru, 39: Hong, 40: Holand-Netherlands) \")\n",
        "  choice = input(\"Select Classifier Algorithm to Use. 1 for KNN, 2 for Decision Tree and 3 for Random Forest Classifier:\")\n",
        "\n",
        "  z = [[age,wc,fw,edu,edu_num,ms,occ,rela,race,sex,cg,cl,hw,nc]]\n",
        "  #z.columns = feature_names\n",
        "  z = pd.DataFrame(z, columns = feature_names)\n",
        "\n",
        "  if choice == \"1\":\n",
        "    k_predict = knn.predict(z)\n",
        "    print(\"\\n\")\n",
        "    print(f\"Predicted Class by KNN: {target[k_predict[0]]}\")\n",
        "  elif choice == \"2\":\n",
        "    k_predict = clf.predict(z)\n",
        "    print(\"\\n\")\n",
        "    print(f\"Predicted Class by Decision Tree: {target[k_predict[0]]}\")\n",
        "  elif choice == \"3\":\n",
        "    k_predict = rf_model.predict(z)\n",
        "    print(\"\\n\")\n",
        "    print(f\"Predicted Class by Random Forest Classifier: {target[k_predict[0]]}\")\n",
        "\n",
        "\n",
        "\n"
      ],
      "metadata": {
        "id": "asT87KtAQ4vQ"
      },
      "execution_count": null,
      "outputs": []
    },
    {
      "cell_type": "code",
      "source": [
        "algorithmChoice()"
      ],
      "metadata": {
        "colab": {
          "base_uri": "https://localhost:8080/",
          "height": 315
        },
        "id": "C2u4hKmfSl-7",
        "outputId": "bb454e85-fd10-4097-f498-03008efc03a5"
      },
      "execution_count": null,
      "outputs": [
        {
          "name": "stdout",
          "output_type": "stream",
          "text": [
            "Select Classifier Algorithm to Use. 1 for KNN, 2 for Decision Tree and 3 for Random Forest Classifier: \n",
            "Select Classifier Algorithm to Use. 1 for KNN, 2 for Decision Tree and 3 for Random Forest Classifier: 1\n"
          ]
        },
        {
          "output_type": "display_data",
          "data": {
            "text/plain": [
              "<Figure size 432x288 with 1 Axes>"
            ],
            "image/png": "[encoded data removed]"
          },
          "metadata": {
            "needs_background": "light"
          }
        }
      ]
    },
    {
      "cell_type": "code",
      "source": [
        "knn = knn_algorithm(input(\"Enter best k from the graph above to see the accuracy after training: \"))"
      ],
      "metadata": {
        "colab": {
          "base_uri": "https://localhost:8080/",
          "height": 387
        },
        "id": "OwwYUJc_avEW",
        "outputId": "8000b494-e5f3-4396-a423-649d3d311732"
      },
      "execution_count": null,
      "outputs": [
        {
          "output_type": "stream",
          "name": "stdout",
          "text": [
            "Enter best k from the graph above to see the accuracy after training: 20\n",
            "Accuracy Score is: 0.8023952095808383\n",
            "Confusion Matrix\n",
            "\n",
            "\n",
            "[[4891   51]\n",
            " [1236  335]]\n"
          ]
        },
        {
          "output_type": "display_data",
          "data": {
            "text/plain": [
              "<Figure size 432x288 with 2 Axes>"
            ],
            "image/png": "[encoded data removed]"
          },
          "metadata": {
            "needs_background": "light"
          }
        }
      ]
    },
    {
      "cell_type": "code",
      "source": [
        "predict()"
      ],
      "metadata": {
        "colab": {
          "base_uri": "https://localhost:8080/"
        },
        "id": "Wm_wEmkk-HM1",
        "outputId": "1af11b36-2072-4870-ae86-fef3c9396c4b"
      },
      "execution_count": null,
      "outputs": [
        {
          "output_type": "stream",
          "name": "stdout",
          "text": [
            "Enter Age: 40\n",
            "Enter Work Class (0: Private, 1: Self-emp-not-inc, 2:Self-emp-inc, 3: Federal-gov, 4: Local-gov, 5: State-gov, 6: Without-pay,\n",
            " 7: Never-worked): 0\n",
            "Enter Final Weight: 100\n",
            "Enter Education (0: Bachelors, 1: Some-college, 2: 11th, 3: HS-grad, 4: Prof-school, 5: Assoc-acdm, 6: Assoc-voc, 7: 9th, 8: 7th-8th,\n",
            " 9: 12th, 10: Masters, 11: 1st-4th, 10th, 12: Doctorate, 13: 5th-6th, 14: Preschool): 0\n",
            "Enter Education-Num: 0\n",
            "Enter Marital-status (0: Married-civ-spouse, 1: Divorced, 2: Never-married, 3: Separated, 4: Widowed, 5: Married-spouse-absent, \n",
            " 6: Married-AF-spouse): 0\n",
            "Enter Occupation (0: Tech-support, 1: Craft-repair, 2: Other-service, 3: Sales, 4: Exec-managerial, 5: Prof-specialty,\n",
            " 6: Handlers-cleaners, 7: Machine-op-inspct, 8: Adm-clerical, 9: Farming-fishing, 10: Transport-moving, 11: Priv-house-serv, \n",
            "12: Protective-serv, 13: Armed-Forces): 0\n",
            "Enter Relationship: (0: Wife, 1: Own-child, 2: Husband, 3: Not-in-family, 4: Other-relative, 5: Unmarried) 0\n",
            "Enter Race (0: White, 1: Asian-Pac-Islander, 2: Amer-Indian-Eskimo, 3: Other, 4: Black): 0\n",
            "Enter Sex: (0: Female, 1: Male) 0\n",
            "Enter Capital-gain: 100\n",
            "Enter Capital-loss: 10\n",
            "Enter Hours-per-week: 100\n",
            "Enter Native-country: (0: United-States, 1: Cambodia, 2: England, 3: Puerto-Rico, 4: Canada, 5: Germany, 6: Outlying-US(Guam-USVI-etc), \n",
            "7: India, 8: Japan, 9: Greece, 10: South, 11: China, 12: Cuba, 13: Iran, 14: Honduras, 16: Philippines, \n",
            "17: Italy, 18: Poland, 19: Jamaica, 20: Vietnam, 21: Mexico, 22: Portugal, 23: Ireland, 24: France, 25: Dominican-Republic, 26: Laos, 27: Ecuador, 28: Taiwan, 29: Haiti, 30: Columbia, 31: Hungary, 31: Guatemala, \n",
            "32: Nicaragua, 33: Scotland, 34: Thailand, 35: Yugoslavia, 36: El-Salvador, 37: Trinadad&Tobago, 38: Peru, 39: Hong, 40: Holand-Netherlands) 0\n",
            "Select Classifier Algorithm to Use. 1 for KNN, 2 for Decision Tree and 3 for Random Forest Classifier:1\n",
            "\n",
            "\n",
            "Predicted Class by KNN: <=50K\n"
          ]
        }
      ]
    }
  ]
}
